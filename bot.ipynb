{
 "cells": [
  {
   "cell_type": "code",
   "execution_count": 2,
   "metadata": {},
   "outputs": [
    {
     "name": "stdout",
     "output_type": "stream",
     "text": [
      "We have logged in as Nr. 101010#6074\n",
      "Bot Closed\n"
     ]
    },
    {
     "ename": "RuntimeError",
     "evalue": "Cannot close a running event loop",
     "output_type": "error",
     "traceback": [
      "\u001b[1;31m---------------------------------------------------------------------------\u001b[0m",
      "\u001b[1;31mRuntimeError\u001b[0m                              Traceback (most recent call last)",
      "\u001b[1;32m<ipython-input-2-c0e56cf57375>\u001b[0m in \u001b[0;36m<module>\u001b[1;34m\u001b[0m\n\u001b[0;32m     78\u001b[0m     \u001b[0mprint\u001b[0m\u001b[1;33m(\u001b[0m\u001b[1;34m\"Bot Closed\"\u001b[0m\u001b[1;33m)\u001b[0m\u001b[1;33m\u001b[0m\u001b[1;33m\u001b[0m\u001b[0m\n\u001b[0;32m     79\u001b[0m \u001b[1;33m\u001b[0m\u001b[0m\n\u001b[1;32m---> 80\u001b[1;33m \u001b[0mbot\u001b[0m\u001b[1;33m.\u001b[0m\u001b[0mrun\u001b[0m\u001b[1;33m(\u001b[0m\u001b[0mtoken\u001b[0m\u001b[1;33m)\u001b[0m\u001b[1;33m\u001b[0m\u001b[1;33m\u001b[0m\u001b[0m\n\u001b[0m",
      "\u001b[1;32mE:\\Software\\Anaconda\\lib\\site-packages\\discord\\client.py\u001b[0m in \u001b[0;36mrun\u001b[1;34m(self, *args, **kwargs)\u001b[0m\n\u001b[0;32m    702\u001b[0m             \u001b[0mfuture\u001b[0m\u001b[1;33m.\u001b[0m\u001b[0mremove_done_callback\u001b[0m\u001b[1;33m(\u001b[0m\u001b[0mstop_loop_on_completion\u001b[0m\u001b[1;33m)\u001b[0m\u001b[1;33m\u001b[0m\u001b[1;33m\u001b[0m\u001b[0m\n\u001b[0;32m    703\u001b[0m             \u001b[0mlog\u001b[0m\u001b[1;33m.\u001b[0m\u001b[0minfo\u001b[0m\u001b[1;33m(\u001b[0m\u001b[1;34m'Cleaning up tasks.'\u001b[0m\u001b[1;33m)\u001b[0m\u001b[1;33m\u001b[0m\u001b[1;33m\u001b[0m\u001b[0m\n\u001b[1;32m--> 704\u001b[1;33m             \u001b[0m_cleanup_loop\u001b[0m\u001b[1;33m(\u001b[0m\u001b[0mloop\u001b[0m\u001b[1;33m)\u001b[0m\u001b[1;33m\u001b[0m\u001b[1;33m\u001b[0m\u001b[0m\n\u001b[0m\u001b[0;32m    705\u001b[0m \u001b[1;33m\u001b[0m\u001b[0m\n\u001b[0;32m    706\u001b[0m         \u001b[1;32mif\u001b[0m \u001b[1;32mnot\u001b[0m \u001b[0mfuture\u001b[0m\u001b[1;33m.\u001b[0m\u001b[0mcancelled\u001b[0m\u001b[1;33m(\u001b[0m\u001b[1;33m)\u001b[0m\u001b[1;33m:\u001b[0m\u001b[1;33m\u001b[0m\u001b[1;33m\u001b[0m\u001b[0m\n",
      "\u001b[1;32mE:\\Software\\Anaconda\\lib\\site-packages\\discord\\client.py\u001b[0m in \u001b[0;36m_cleanup_loop\u001b[1;34m(loop)\u001b[0m\n\u001b[0;32m     95\u001b[0m     \u001b[1;32mfinally\u001b[0m\u001b[1;33m:\u001b[0m\u001b[1;33m\u001b[0m\u001b[1;33m\u001b[0m\u001b[0m\n\u001b[0;32m     96\u001b[0m         \u001b[0mlog\u001b[0m\u001b[1;33m.\u001b[0m\u001b[0minfo\u001b[0m\u001b[1;33m(\u001b[0m\u001b[1;34m'Closing the event loop.'\u001b[0m\u001b[1;33m)\u001b[0m\u001b[1;33m\u001b[0m\u001b[1;33m\u001b[0m\u001b[0m\n\u001b[1;32m---> 97\u001b[1;33m         \u001b[0mloop\u001b[0m\u001b[1;33m.\u001b[0m\u001b[0mclose\u001b[0m\u001b[1;33m(\u001b[0m\u001b[1;33m)\u001b[0m\u001b[1;33m\u001b[0m\u001b[1;33m\u001b[0m\u001b[0m\n\u001b[0m\u001b[0;32m     98\u001b[0m \u001b[1;33m\u001b[0m\u001b[0m\n\u001b[0;32m     99\u001b[0m \u001b[1;32mclass\u001b[0m \u001b[0m_ClientEventTask\u001b[0m\u001b[1;33m(\u001b[0m\u001b[0masyncio\u001b[0m\u001b[1;33m.\u001b[0m\u001b[0mTask\u001b[0m\u001b[1;33m)\u001b[0m\u001b[1;33m:\u001b[0m\u001b[1;33m\u001b[0m\u001b[1;33m\u001b[0m\u001b[0m\n",
      "\u001b[1;32mE:\\Software\\Anaconda\\lib\\asyncio\\selector_events.py\u001b[0m in \u001b[0;36mclose\u001b[1;34m(self)\u001b[0m\n\u001b[0;32m     86\u001b[0m     \u001b[1;32mdef\u001b[0m \u001b[0mclose\u001b[0m\u001b[1;33m(\u001b[0m\u001b[0mself\u001b[0m\u001b[1;33m)\u001b[0m\u001b[1;33m:\u001b[0m\u001b[1;33m\u001b[0m\u001b[1;33m\u001b[0m\u001b[0m\n\u001b[0;32m     87\u001b[0m         \u001b[1;32mif\u001b[0m \u001b[0mself\u001b[0m\u001b[1;33m.\u001b[0m\u001b[0mis_running\u001b[0m\u001b[1;33m(\u001b[0m\u001b[1;33m)\u001b[0m\u001b[1;33m:\u001b[0m\u001b[1;33m\u001b[0m\u001b[1;33m\u001b[0m\u001b[0m\n\u001b[1;32m---> 88\u001b[1;33m             \u001b[1;32mraise\u001b[0m \u001b[0mRuntimeError\u001b[0m\u001b[1;33m(\u001b[0m\u001b[1;34m\"Cannot close a running event loop\"\u001b[0m\u001b[1;33m)\u001b[0m\u001b[1;33m\u001b[0m\u001b[1;33m\u001b[0m\u001b[0m\n\u001b[0m\u001b[0;32m     89\u001b[0m         \u001b[1;32mif\u001b[0m \u001b[0mself\u001b[0m\u001b[1;33m.\u001b[0m\u001b[0mis_closed\u001b[0m\u001b[1;33m(\u001b[0m\u001b[1;33m)\u001b[0m\u001b[1;33m:\u001b[0m\u001b[1;33m\u001b[0m\u001b[1;33m\u001b[0m\u001b[0m\n\u001b[0;32m     90\u001b[0m             \u001b[1;32mreturn\u001b[0m\u001b[1;33m\u001b[0m\u001b[1;33m\u001b[0m\u001b[0m\n",
      "\u001b[1;31mRuntimeError\u001b[0m: Cannot close a running event loop"
     ]
    }
   ],
   "source": [
    "from discord.ext import commands\n",
    "\n",
    "import asyncio\n",
    "import nest_asyncio\n",
    "nest_asyncio.apply()\n",
    "\n",
    "import os\n",
    "from dotenv import load_dotenv\n",
    "load_dotenv()\n",
    "token = os.getenv('DISCORD_TOKEN')\n",
    "\n",
    "import a2s\n",
    "\n",
    "bot = commands.Bot(command_prefix='!')\n",
    "\n",
    "def svinfo(sv_adr):\n",
    "    \n",
    "    adr = (sv_adr.split(':')[0], int(sv_adr.split(':')[1]))\n",
    "    svi = a2s.info(adr)\n",
    "    svp = a2s.players(adr)\n",
    "    nat = [(player.name, player.duration / 3600) for player in svp]\n",
    "\n",
    "    n = 0\n",
    "    for p in nat:\n",
    "        if p[0] == '':\n",
    "            n += 1\n",
    "\n",
    "    a = \"Name: \" + str(svi.server_name) + \"\\nMap: \" + str(svi.map_name) + \"\\nPlayers: \" + str(svi.player_count-n) + \"/\" + str(svi.max_players)\n",
    "    b = ''\n",
    "    for p in nat:\n",
    "        if p[0] == '':\n",
    "            pass\n",
    "        else:\n",
    "            if len(a) < 1900:\n",
    "                a += \"\\nPlayer \" + str(p[0]) + \" is playing for \" + str(round(p[1], 2)) + \" hours.\"\n",
    "            else:\n",
    "                b += \"\\nPlayer \" + str(p[0]) + \" is playing for \" + str(round(p[1], 2)) + \" hours.\"\n",
    "                \n",
    "    return a, b\n",
    "\n",
    "@bot.event\n",
    "async def on_ready():\n",
    "    print('We have logged in as {0.user}'.format(bot))\n",
    "\n",
    "@bot.command()\n",
    "@commands.has_role('Wizard')\n",
    "async def catcast(ctx):\n",
    "    await ctx.send('bark')\n",
    "\n",
    "@bot.command()\n",
    "@commands.has_role('Wizard')\n",
    "async def add(ctx, cluster, maP, adress):\n",
    "    with open(\".env\", \"a\") as f:\n",
    "        f.write(\"\\n\" + str(cluster) + '_' + str(maP) + \"=\" + adress)\n",
    "    await ctx.send(\"Succesfully added\")\n",
    "    \n",
    "@bot.command()\n",
    "async def fetch(ctx, cluster, maP):\n",
    "    load_dotenv()\n",
    "    adr = os.getenv(str(cluster) + '_' + str(maP))\n",
    "    msg1, msg2 = svinfo(adr)\n",
    "    await ctx.send(msg1)\n",
    "    if msg2 != '':\n",
    "        await ctx.send(msg2)\n",
    "    \n",
    "@bot.command(name=\"list\")\n",
    "async def lst(ctx):\n",
    "    with open(\".env\", \"r\") as f:\n",
    "        fc = f.read().split(\"\\n\")\n",
    "        for i in range(1, len(fc)):\n",
    "            await ctx.send(fc[i])\n",
    "    \n",
    "@bot.command()\n",
    "@commands.has_role('Wizard')\n",
    "async def playdead(ctx):\n",
    "    await ctx.send(\"“That is not dead which can eternal lie, And with strange aeons even death may die”\")\n",
    "    await bot.logout()\n",
    "    print(\"Bot Closed\")\n",
    "    \n",
    "bot.run(token)"
   ]
  }
 ],
 "metadata": {
  "kernelspec": {
   "display_name": "Python 3",
   "language": "python",
   "name": "python3"
  },
  "language_info": {
   "codemirror_mode": {
    "name": "ipython",
    "version": 3
   },
   "file_extension": ".py",
   "mimetype": "text/x-python",
   "name": "python",
   "nbconvert_exporter": "python",
   "pygments_lexer": "ipython3",
   "version": "3.7.6"
  }
 },
 "nbformat": 4,
 "nbformat_minor": 4
}
